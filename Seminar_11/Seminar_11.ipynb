{
 "cells": [
  {
   "cell_type": "markdown",
   "metadata": {},
   "source": [
    "## Меры качества алгоритмов распознавания изображений"
   ]
  },
  {
   "cell_type": "markdown",
   "metadata": {},
   "source": [
    "Task statement: оценка алгоритмов распознавания образов с помощью интуитивно понятных и объясняемых метрик.\n",
    "\n",
    "Для каждой задачи (классификация, регрессия, детекция и проч.) определяется своя метрика качества работы алгоритма. Пример:\n",
    "- Классификация:\n",
    "    - Доля правильно распознаных ответов (accuracy)\n",
    "    - Точность (precision)\n",
    "    - Полнота (recall)\n",
    "    - Средняя точность (AP)\n",
    "- Регрессия:\n",
    "    - Средняя абсолютная ошибка (MAE)\n",
    "    - Коэффициент детерминации ($R^2$)\n",
    "    - Cредняя абсолютная процентная ошибка (MAPE)\n",
    "- Детекция:\n",
    "    - Коэффициент Жаккара (IoU)\n",
    "    - mAP\n",
    "- Трекинг:\n",
    "    - MOTA\n",
    "    - HOTA\n",
    "    \n",
    "Хороший обзор на базовые метрики классификации и регрессии от Евгения Соколова (ВШЭ) можно найти [тут](http://www.machinelearning.ru/wiki/images/1/1c/sem06_metrics.pdf)."
   ]
  },
  {
   "cell_type": "code",
   "execution_count": null,
   "metadata": {},
   "outputs": [],
   "source": [
    "%%bash\n",
    "\n",
    "wget \\\n",
    "    https://raw.githubusercontent.com/avbokovoy/MIPT-Computer_vision-2020/master/7-Metrics/homework/classification_results.txt \\\n",
    "    -O classification_results.txt \\\n",
    "    -q"
   ]
  },
  {
   "cell_type": "code",
   "execution_count": null,
   "metadata": {},
   "outputs": [],
   "source": [
    "import pandas as pd\n",
    "import sklearn\n",
    "import numpy as np"
   ]
  },
  {
   "cell_type": "code",
   "execution_count": null,
   "metadata": {},
   "outputs": [],
   "source": [
    "df = pd.read_csv(\n",
    "    filepath_or_buffer='classification_results.txt',\n",
    "    sep=' ',\n",
    "    names=['actual','predicted'],\n",
    ")\n",
    "print('Actual classes:', sorted(df['actual'].unique()))"
   ]
  },
  {
   "cell_type": "markdown",
   "metadata": {},
   "source": [
    "### Регрессия\n",
    "\n",
    "Пример: получение оптимальных коэффициентов прямой. Какая метрика подойдет в этом случае?\n",
    "![text](https://media.proglib.io/wp-uploads/2018/03/1_IjxpxWcKX8EJUVFBNFeKdA.gif)\n",
    "\n",
    "MSE применяется в ситуациях, когда нам надо подчеркнуть большие ошибки и выбрать модель, которая дает меньше больших ошибок прогноза. Грубые ошибки становятся заметнее за счет того, что ошибку прогноза мы возводим в квадрат. И модель, которая дает нам меньшее значение среднеквадратической ошибки, можно сказать, что что у этой модели меньше грубых ошибок.\n",
    "\n",
    "Среднеквадратичный функционал MSE сильнее штрафует за большие отклонения по сравнению со среднеабсолютным MAE, и поэтому более чувствителен к выбросам. При использовании любого из этих двух функционалов может быть полезно проанализировать, какие объекты вносят наибольший вклад в общую ошибку — не исключено, что на этих объектах была допущена ошибка при вычислении признаков или целевой величины.\n",
    "\n",
    "Среднеквадратичная ошибка MSE подходит для сравнения двух моделей или для контроля качества во время обучения, но не позволяет сделать выводов о том, на сколько хорошо данная модель решает задачу. Например, MSE = 10 является очень плохим показателем, если целевая переменная принимает значения от 0 до 1, и очень хорошим, если целевая переменная лежит в интервале (10000, 100000). В таких ситуациях вместо среднеквадратичной ошибки полезно использовать коэффициент детерминации $R^2$."
   ]
  },
  {
   "cell_type": "markdown",
   "metadata": {},
   "source": [
    "Вопрос 0. Реализуйте MSE, MAE и R^2. Сравните их с `sklearn.metrics`."
   ]
  },
  {
   "cell_type": "markdown",
   "metadata": {},
   "source": [
    "### Классификация"
   ]
  },
  {
   "cell_type": "markdown",
   "metadata": {},
   "source": [
    "<!--\n",
    "{| border=\"0\" align=\"center\" style=\"text-align: center; background: #FFFFFF;\"\n",
    "|+\n",
    "!\n",
    "! colspan=\"2\" style=\"background: #ddffdd;\"|actual class <br/> (observation)\n",
    "|-\n",
    "!\n",
    "|-----\n",
    "|+\n",
    "! rowspan=\"2\" style=\"background: #ffdddd;\"|predicted class <br/> (expectation)\n",
    "| '''tp''' <br /> (true positive) <br/> Correct result\n",
    "| '''fp''' <br /> (false positive) <br/> Unexpected result\n",
    "|-bgcolor=\"#EFEFEF\"\n",
    "| '''fn''' <br /> (false negative) <br/> Missing result\n",
    "| '''tn''' <br /> (true negative) <br/> Correct absence of result\n",
    "|+\n",
    "|}\n",
    "\n",
    "-->"
   ]
  },
  {
   "cell_type": "markdown",
   "metadata": {},
   "source": [
    "### Бинарная классификация\n",
    "\n",
    "Матрица ошибок (confusion matrix)\n",
    "\n",
    "|          | y = 1 | y = 0 |\n",
    "|    ---   |  ---  |  ---  |\n",
    "| a(x) = 1 | Истинно положительный (TP)| Ложно-положительный (FP)|\n",
    "| a(x) = 0 | Ложно-отрицательный (FN)  | Истинно-отрицательный (TN)|\n",
    "\n",
    "Метрики:\n",
    "- Accuracy = $\\frac{TP + FN}{TP + FN + FP + FN}$\n",
    "- Precision = $\\frac{TP}{TP + FP}$\n",
    "- Recall = $\\frac{TP}{TP + FN}$"
   ]
  },
  {
   "cell_type": "markdown",
   "metadata": {},
   "source": [
    "### Многоклассовая классификация\n",
    "\n",
    "Матрица ошибок (confusion matrix) для 3 классов (пример)\n",
    "\n",
    "|          | y = 2 | y = 1 | y = 0 |\n",
    "|    ---   |  ---  |  ---  |  ---  |\n",
    "| a(x) = 2 | $a_{1,1}$ | $a_{1,2}$ | $a_{1,3}$ |\n",
    "| a(x) = 1 | $a_{2,1}$ | $a_{2,2}$ | $a_{2,3}$ |\n",
    "| a(x) = 0 | $a_{3,1}$ | $a_{3,2}$ | $a_{3,3}$ |\n",
    "\n",
    "Например, расчет для класса 2:\n",
    "- TP: $a_{1,1}$\n",
    "- FP: $a_{1,2} + a_{1,3}$\n",
    "- FN: $a_{2,1} + a_{3,1}$\n",
    "- TN: неопределен\n",
    "\n",
    "Среднее по классам: `micro` и `macro`, `weighted`\n",
    "- micro: суммирование всех TP, FP, FN в классах и вычисление финальной метрики\n",
    "- macro: вычисление метрики в каждом классе и взятие взвешенной суммы (вес каждого - 1 / кол-во классов)\n",
    "- weighted: вычисление метрики в каждом классе и взятие взвешенной суммы (вес каждого - кол-во элементов в классе / кол-во элементов всего)"
   ]
  },
  {
   "cell_type": "markdown",
   "metadata": {},
   "source": [
    "Вопрос 1. Составьте confusion matrix и посчитайте приведенные метрики на скаченном наборе данных. Сравните их со стандартными реализациями в `sklearn.metrics`."
   ]
  },
  {
   "cell_type": "code",
   "execution_count": null,
   "metadata": {},
   "outputs": [],
   "source": [
    "#TODO"
   ]
  },
  {
   "cell_type": "markdown",
   "metadata": {},
   "source": [
    "Вопрос 2. Хороша ли метрика accuracy в мульклассовой классификациии? Почему?"
   ]
  },
  {
   "cell_type": "code",
   "execution_count": 10,
   "metadata": {},
   "outputs": [],
   "source": [
    "#TODO"
   ]
  },
  {
   "cell_type": "markdown",
   "metadata": {},
   "source": [
    "### Дополнительная глава. Построение кривых уверенности.\n",
    "\n",
    "1. ROC кривая. Можно почитать [тут](https://dyakonov.org/2017/07/28/auc-roc-площадь-под-кривой-ошибок/). Как следствие - ROC-AUC метрика для классификации. Проблема - чувсвительность к дисбалансу классов.\n",
    "2. PR кривая. Алгоритм построения кривой указан [тут](http://www.machinelearning.ru/wiki/images/1/1c/sem06_metrics.pdf) на странице 8. Как следствие - метрика AP.\n",
    "\n",
    "Дополнительную информацию о взаимоотношениях между ROC и PR кривой можно почитать [тут](https://pages.cs.wisc.edu/~jdavis/davisgoadrichcamera2.pdf)."
   ]
  },
  {
   "cell_type": "code",
   "execution_count": 39,
   "metadata": {},
   "outputs": [],
   "source": [
    "#сводим мультиклассовую задачу к одноклассовой с помощью клиппинга\n",
    "\n",
    "zero_one_class_mask = (df['actual'] == 0) | (df['actual'] == 1)\n",
    "\n",
    "y_true = df['actual'][zero_one_class_mask]\n",
    "y_pred = df['predicted'][zero_one_class_mask]\n",
    "\n",
    "#set clipped scores\n",
    "probas = y_pred.clip(0, 1)"
   ]
  },
  {
   "cell_type": "code",
   "execution_count": 40,
   "metadata": {},
   "outputs": [
    {
     "data": {
      "image/png": "[encoded data removed]",
      "text/plain": [
       "<Figure size 432x288 with 1 Axes>"
      ]
     },
     "metadata": {
      "needs_background": "light"
     },
     "output_type": "display_data"
    }
   ],
   "source": [
    "from sklearn.metrics import PrecisionRecallDisplay\n",
    "\n",
    "display = PrecisionRecallDisplay.from_predictions(y_true, probas)"
   ]
  },
  {
   "cell_type": "code",
   "execution_count": 41,
   "metadata": {},
   "outputs": [
    {
     "data": {
      "image/png": "[encoded data removed]",
      "text/plain": [
       "<Figure size 432x288 with 1 Axes>"
      ]
     },
     "metadata": {
      "needs_background": "light"
     },
     "output_type": "display_data"
    }
   ],
   "source": [
    "from sklearn.metrics import RocCurveDisplay\n",
    "\n",
    "display = RocCurveDisplay.from_predictions(y_true, probas)"
   ]
  },
  {
   "cell_type": "markdown",
   "metadata": {},
   "source": [
    "### Детекция\n",
    "\n",
    "Задача подсчета качества детекции сводится к подсчету классификации с помощью введения метрики схожести. Зачастую для сопоставления объектов берется метрика Intersection Over Union (IoU).\n",
    "\n",
    "$IoU(A, B) = \\frac{|A \\cup B|}{|A \\cap B|}$\n",
    "\n",
    "Объекты для сравнения могут выступать в виде 2D/3D ограничивающих рамок или масок сегментации.\n",
    "\n",
    "![text](https://assets-global.website-files.com/5d7b77b063a9066d83e1209c/61e9cff8038fd36e52c7a192_HeKufHa.png)\n",
    "\n",
    "Ограничивающий прямоугольник 2D может быть определен, используя всего 4 числа:\n",
    "- координаты диагональных углов (xyxy)\n",
    "- координаты центра и ширины, и длины (xywh)\n",
    "\n",
    "Ограничивающий прямоугольник 3D может быть определен, используя всего 6 чисел:\n",
    "- координаты центра (xyz), длина, ширина, высота (lhw), угол поворота ($\\theta$)\n",
    "\n",
    "Маска сегментации определяется через бинарную маску с размерами, равными исходному изображению.\n",
    "\n",
    "![text](https://www.researchgate.net/publication/335876570/figure/fig2/AS:804291526795265@1568769451765/Intersection-over-Union-IOU-calculation-diagram.png)"
   ]
  },
  {
   "cell_type": "code",
   "execution_count": 45,
   "metadata": {},
   "outputs": [
    {
     "ename": "TabError",
     "evalue": "inconsistent use of tabs and spaces in indentation (<ipython-input-45-c8b55f60b2ea>, line 19)",
     "output_type": "error",
     "traceback": [
      "\u001b[0;36m  File \u001b[0;32m\"<ipython-input-45-c8b55f60b2ea>\"\u001b[0;36m, line \u001b[0;32m19\u001b[0m\n\u001b[0;31m    return iou\u001b[0m\n\u001b[0m              ^\u001b[0m\n\u001b[0;31mTabError\u001b[0m\u001b[0;31m:\u001b[0m inconsistent use of tabs and spaces in indentation\n"
     ]
    }
   ],
   "source": [
    "# Вопрос 3. Реализуйте метрику IoU для ограничивающих 2D рамок.\n",
    "\n",
    "'''\n",
    "    0,0 ------> x (width)\n",
    "     |\n",
    "     |  (Left,Top)\n",
    "     |      *_________\n",
    "     |      |         |\n",
    "     v      |         |\n",
    "     y      |_________|\n",
    "  (height)            *\n",
    "                (Right,Bottom)\n",
    "'''\n",
    "\n",
    "def bb_iou(\n",
    "    boxA: list[int],\n",
    "    boxB: list[int],\n",
    ") -> float:\n",
    "    \n",
    "    '''\n",
    "    Intersection Over Union\n",
    "    Inputs:\n",
    "    boxA:  list[int], corner up left, corner down right.\n",
    "    boxB:  list[int], corner up left, corner down right.\n",
    "    \n",
    "    Outputs:\n",
    "    iou: float, Intersection Over Union\n",
    "    '''\n",
    "    \n",
    "    #TODO\n",
    "    \n",
    "\treturn iou"
   ]
  },
  {
   "cell_type": "code",
   "execution_count": 10,
   "metadata": {},
   "outputs": [
    {
     "name": "stdout",
     "output_type": "stream",
     "text": [
      "All done!\n"
     ]
    }
   ],
   "source": [
    "# tests\n",
    "questions = [\n",
    "    [[39, 63, 203, 112], [54, 66, 198, 114]],\n",
    "    [[39, 63, 203, 112], [90, 63, 203, 112]],\n",
    "    [[39, 63, 203, 112], [39, 63, 203, 112]],\n",
    "    [[0, 0, 0, 0], [39, 63, 203, 112]],\n",
    "]\n",
    "answers = [\n",
    "    0.798,\n",
    "    0.691,\n",
    "    1.,\n",
    "    0.,\n",
    "]\n",
    "\n",
    "for question, answer in zip(questions, answers):\n",
    "    \n",
    "    first, second = question\n",
    "    \n",
    "    algo_out = bb_iou(first, second)\n",
    "    \n",
    "    assert np.allclose(\n",
    "        a=answer,\n",
    "        b=algo_out,\n",
    "        rtol=1e-02,\n",
    "    ), f'Test with {first} and {second} bboxes was filed. Got {algo_out}, expected {answer}.'\n",
    "    \n",
    "print('All done!')"
   ]
  },
  {
   "cell_type": "markdown",
   "metadata": {},
   "source": [
    "Как вычислить метрику для результатов детекции? Прежде чем приступить к подсчету метрики, определимся с понятием объекта. Объект состоит из его характеристик локализации (2D/3D рамки, либо маски сегментации), класса объекта и уверенности в предсказании.\n",
    "\n",
    "В общей постановке задачи, алгоритм выдает N объектов, а в нашей разметке содержится M объектов. Как же посчитать метрику качества?\n",
    "\n",
    "Основная пробелема - матчинг объектов.\n",
    "\n",
    "![test](https://manalelaidouni.github.io/assets/img/pexels/Detections_IoU_edit1-401ab064-29c4-4e74-8b34-b79b7b5cb6eb.png)\n",
    "\n",
    "Основные шаги:\n",
    "- определение трешхолда IoU (tr_iou). Если объект имеет тот же класс и IoU между предсказанной локализацией и  правильной локализацией. Если IoU >= tr_iou и совпадает класс, объект считатся TP, иначе FP.\n",
    "- Необходимо найти лучший матчинг, для этого в первоначальном приближении используется Жадный алгоритм (поиск максимума по IoU), оптимальный алгоритм - Венгерский.\n",
    "- непокрытые объекты в разметке помечаются как FN\n",
    "\n",
    "Библиотеки, которые могу вести подсчет AP:\n",
    "- https://github.com/rafaelpadilla/Object-Detection-Metrics\n",
    "- https://github.com/cocodataset/cocoapi/tree/master/PythonAPI/pycocotools\n",
    "- и другие.\n"
   ]
  },
  {
   "cell_type": "code",
   "execution_count": 2,
   "metadata": {},
   "outputs": [
    {
     "name": "stdout",
     "output_type": "stream",
     "text": [
      "Requirement already satisfied: gdown in /Library/Frameworks/Python.framework/Versions/3.9/lib/python3.9/site-packages (4.2.0)\n",
      "Collecting gdown\n",
      "  Downloading gdown-4.4.0.tar.gz (14 kB)\n",
      "  Installing build dependencies ... \u001b[?25ldone\n",
      "\u001b[?25h  Getting requirements to build wheel ... \u001b[?25ldone\n",
      "\u001b[?25h  Preparing metadata (pyproject.toml) ... \u001b[?25ldone\n",
      "\u001b[?25hRequirement already satisfied: beautifulsoup4 in /Library/Frameworks/Python.framework/Versions/3.9/lib/python3.9/site-packages (from gdown) (4.10.0)\n",
      "Requirement already satisfied: filelock in /Library/Frameworks/Python.framework/Versions/3.9/lib/python3.9/site-packages (from gdown) (3.3.1)\n",
      "Requirement already satisfied: six in /Library/Frameworks/Python.framework/Versions/3.9/lib/python3.9/site-packages (from gdown) (1.15.0)\n",
      "Requirement already satisfied: tqdm in /Library/Frameworks/Python.framework/Versions/3.9/lib/python3.9/site-packages (from gdown) (4.59.0)\n",
      "Requirement already satisfied: requests[socks] in /Library/Frameworks/Python.framework/Versions/3.9/lib/python3.9/site-packages (from gdown) (2.25.1)\n",
      "Requirement already satisfied: soupsieve>1.2 in /Library/Frameworks/Python.framework/Versions/3.9/lib/python3.9/site-packages (from beautifulsoup4->gdown) (2.2.1)\n",
      "Requirement already satisfied: certifi>=2017.4.17 in /Library/Frameworks/Python.framework/Versions/3.9/lib/python3.9/site-packages (from requests[socks]->gdown) (2020.12.5)\n",
      "Requirement already satisfied: urllib3<1.27,>=1.21.1 in /Library/Frameworks/Python.framework/Versions/3.9/lib/python3.9/site-packages (from requests[socks]->gdown) (1.26.2)\n",
      "Requirement already satisfied: chardet<5,>=3.0.2 in /Library/Frameworks/Python.framework/Versions/3.9/lib/python3.9/site-packages (from requests[socks]->gdown) (3.0.4)\n",
      "Requirement already satisfied: idna<3,>=2.5 in /Library/Frameworks/Python.framework/Versions/3.9/lib/python3.9/site-packages (from requests[socks]->gdown) (2.10)\n",
      "Requirement already satisfied: PySocks!=1.5.7,>=1.5.6 in /Library/Frameworks/Python.framework/Versions/3.9/lib/python3.9/site-packages (from requests[socks]->gdown) (1.7.1)\n",
      "Building wheels for collected packages: gdown\n",
      "  Building wheel for gdown (pyproject.toml) ... \u001b[?25ldone\n",
      "\u001b[?25h  Created wheel for gdown: filename=gdown-4.4.0-py3-none-any.whl size=14775 sha256=860878d89f2a30cfc8410fe38c095bb03cb949c770e7fbe15a8e03874014c884\n",
      "  Stored in directory: /private/var/folders/43/vchb6g294j5847xg1vmhgk1c0000gn/T/pip-ephem-wheel-cache-h1p55aym/wheels/7d/37/b6/b2a79c75e898c0b8e46ff255102602d7159a10d9af0d80641a\n",
      "Successfully built gdown\n",
      "Installing collected packages: gdown\n",
      "  Attempting uninstall: gdown\n",
      "    Found existing installation: gdown 4.2.0\n",
      "    Uninstalling gdown-4.2.0:\n",
      "      Successfully uninstalled gdown-4.2.0\n",
      "Successfully installed gdown-4.4.0\n",
      "Note: you may need to restart the kernel to use updated packages.\n",
      "/Library/Frameworks/Python.framework/Versions/3.9/lib/python3.9/site-packages/gdown/cli.py:127: FutureWarning: Option `--id` was deprecated in version 4.3.1 and will be removed in 5.0. You don't need to pass it anymore to use a file ID.\n",
      "  warnings.warn(\n",
      "Downloading...\n",
      "From: https://drive.google.com/uc?id=10YDnKAzf-zsE0IguEyZh__QNwgJD7l2H\n",
      "To: /Users/ilyabasarov/Desktop/code/MIPT/MTAI/2_term/CV/Lab_05/epoch_30_test_00_00.segm.json\n",
      "100%|████████████████████████████████████████| 523M/523M [02:07<00:00, 4.11MB/s]\n",
      "/Library/Frameworks/Python.framework/Versions/3.9/lib/python3.9/site-packages/gdown/cli.py:127: FutureWarning: Option `--id` was deprecated in version 4.3.1 and will be removed in 5.0. You don't need to pass it anymore to use a file ID.\n",
      "  warnings.warn(\n",
      "Downloading...\n",
      "From: https://drive.google.com/uc?id=1pwyerjxRcHOEvjahMDPy3pjZuYSHLvZN\n",
      "To: /Users/ilyabasarov/Desktop/code/MIPT/MTAI/2_term/CV/Lab_05/test_00_00_instances.json\n",
      "100%|████████████████████████████████████████| 198M/198M [00:47<00:00, 4.15MB/s]\n"
     ]
    }
   ],
   "source": [
    "#download segmentation results\n",
    "\n",
    "%pip install -U --no-cache-dir gdown --pre\n",
    "%pip install -U pycocotools\n",
    "\n",
    "#predicted\n",
    "!gdown \\\n",
    "    --id 10YDnKAzf-zsE0IguEyZh__QNwgJD7l2H \\\n",
    "    --fuzzy \\\n",
    "    -O epoch_30_test_00_00.segm.json\n",
    "    \n",
    "#ground truth\n",
    "!gdown \\\n",
    "    --id 1pwyerjxRcHOEvjahMDPy3pjZuYSHLvZN \\\n",
    "    --fuzzy \\\n",
    "    -O test_00_00_instances.json"
   ]
  },
  {
   "cell_type": "code",
   "execution_count": 4,
   "metadata": {},
   "outputs": [
    {
     "name": "stdout",
     "output_type": "stream",
     "text": [
      "loading annotations into memory...\n",
      "Done (t=6.00s)\n",
      "creating index...\n",
      "index created!\n",
      "Loading and preparing results...\n",
      "DONE (t=20.35s)\n",
      "creating index...\n",
      "index created!\n",
      "Running per image evaluation...\n",
      "Evaluate annotation type *segm*\n",
      "DONE (t=239.52s).\n",
      "Accumulating evaluation results...\n",
      "DONE (t=31.30s).\n",
      " Average Precision  (AP) @[ IoU=0.50:0.95 | area=   all | maxDets=100 ] = 0.239\n",
      " Average Precision  (AP) @[ IoU=0.50      | area=   all | maxDets=100 ] = 0.378\n",
      " Average Precision  (AP) @[ IoU=0.75      | area=   all | maxDets=100 ] = 0.249\n",
      " Average Precision  (AP) @[ IoU=0.50:0.95 | area= small | maxDets=100 ] = 0.073\n",
      " Average Precision  (AP) @[ IoU=0.50:0.95 | area=medium | maxDets=100 ] = 0.382\n",
      " Average Precision  (AP) @[ IoU=0.50:0.95 | area= large | maxDets=100 ] = 0.566\n",
      " Average Recall     (AR) @[ IoU=0.50:0.95 | area=   all | maxDets=  1 ] = 0.187\n",
      " Average Recall     (AR) @[ IoU=0.50:0.95 | area=   all | maxDets= 10 ] = 0.266\n",
      " Average Recall     (AR) @[ IoU=0.50:0.95 | area=   all | maxDets=100 ] = 0.267\n",
      " Average Recall     (AR) @[ IoU=0.50:0.95 | area= small | maxDets=100 ] = 0.087\n",
      " Average Recall     (AR) @[ IoU=0.50:0.95 | area=medium | maxDets=100 ] = 0.434\n",
      " Average Recall     (AR) @[ IoU=0.50:0.95 | area= large | maxDets=100 ] = 0.615\n",
      "\n",
      "{ap05095}_{ap05}_{ap075}_{ap05095large}_{apchair}\n",
      "0.2391 0.3778 0.2485 0.5657 29.167\n",
      "0.2391\n",
      "0.3778\n",
      "0.2485\n",
      "0.5657\n",
      "29.167\n"
     ]
    }
   ],
   "source": [
    "!python3 detection_metrics.py"
   ]
  },
  {
   "cell_type": "markdown",
   "metadata": {},
   "source": [
    "### Трекинг объектов (Multiple Object Tracing, MOT)"
   ]
  },
  {
   "cell_type": "markdown",
   "metadata": {},
   "source": [
    "Требуется отслеживать несколько объектов. Ожидается, что алгоритм отслеживания, во-первых, определит количество объектов в каждом кадре, а во-вторых, будет отслеживать идентификацию каждого объекта от одного кадра к следующему.\n",
    "\n",
    "Трекинг - сложная проблема: переключения идентификаторов трудно избежать, особенно в переполненных видео, а также количество объектов в каждом кадре неизвестны, поэтому алгоритмы MOT сильно полагаются на алгоритмы обнаружения, которые сами по себе не идеальны. Существует множество метрик для отслеживания качества предсказаний трекинга объектов.\n",
    "\n",
    "- 2D detection: MOTA, MOTP: [paper](https://cvhci.anthropomatik.kit.edu/~stiefel/papers/ECCV2006WorkshopCameraReady.pdf), [code](https://github.com/JonathonLuiten/TrackEval)\n",
    "- Segmentation: MOTSA: [paper](https://arxiv.org/pdf/1902.03604.pdf), [code](https://github.com/VisualComputingInstitute/mots_tools)\n",
    "- 2D/3D/Segmentation HOTA: [paper](https://arxiv.org/abs/2009.07736), [code](https://github.com/JonathonLuiten/TrackEval)\n",
    "\n",
    "![text](https://miro.medium.com/max/896/1*ak-WaHg4bi3al2qc1bv9NA.png)\n",
    "\n",
    "где $FN_t$ - количество ложно-отрицательных срабатываний (пропущенных объектов), $FP_t$ - количество ложных-положительных срабатываний (лишних траекторий объектов), $IDS_t$ - количество переключений идентификаторов в момент времени t. Цель считается пропущенной, если IoU (pred, true) < iou_tr. Обратите внимание, что MOTA может быть отрицательным."
   ]
  },
  {
   "cell_type": "code",
   "execution_count": null,
   "metadata": {},
   "outputs": [],
   "source": []
  }
 ],
 "metadata": {
  "kernelspec": {
   "display_name": "Python 3",
   "language": "python",
   "name": "python3"
  },
  "language_info": {
   "codemirror_mode": {
    "name": "ipython",
    "version": 3
   },
   "file_extension": ".py",
   "mimetype": "text/x-python",
   "name": "python",
   "nbconvert_exporter": "python",
   "pygments_lexer": "ipython3",
   "version": "3.9.0"
  }
 },
 "nbformat": 4,
 "nbformat_minor": 4
}
